{
  "nbformat": 4,
  "nbformat_minor": 0,
  "metadata": {
    "colab": {
      "provenance": [],
      "authorship_tag": "ABX9TyMJ9AMLVJZJyI/oSzmyPs7v",
      "include_colab_link": true
    },
    "kernelspec": {
      "name": "python3",
      "display_name": "Python 3"
    },
    "language_info": {
      "name": "python"
    }
  },
  "cells": [
    {
      "cell_type": "markdown",
      "metadata": {
        "id": "view-in-github",
        "colab_type": "text"
      },
      "source": [
        "<a href=\"https://colab.research.google.com/github/joshbrx/Colab_4_Makers/blob/main/Se%20coment%C3%B3%20la%20parte%20de%20numpy%20en%20%22broadcasting%22%20y%20gr%C3%A1ficas%20de%20%22funciones%22%20(v.3)\" target=\"_parent\"><img src=\"https://colab.research.google.com/assets/colab-badge.svg\" alt=\"Open In Colab\"/></a>"
      ]
    },
    {
      "cell_type": "markdown",
      "source": [
        "# *Importando librerías* 🤓💹📚\n",
        "\n",
        "Ya terminamos nuestro repaso por Python 3, y podemos pasar a trabajar con librerías (o mejor dicho bibliotecas). \n",
        "\n",
        "Aquí veremos la librería de ***Matplotlib*** para poder realizar gráficas pofesionales, ***Numpy*** y ***Pandas*** para poder manipular los datos que obtengamos de nuestros sensores y poder realizar análisis significativos en nuestros reportes.\n",
        "\n",
        "Con esto ya tendrás todas las herramientas para poder ser una navaja suiza en electro e incluso llegar más que listo para tu próximo laboratorio 😯"
      ],
      "metadata": {
        "id": "IeijVFf3sgky"
      }
    },
    {
      "cell_type": "markdown",
      "source": [
        "***Oye, ¿y ya sabes qué es una biblioteca en Python?***\n",
        "\n",
        "Pues una biblioteca es un conjunto de módulos que se distribuyen junto con Python. Estas ayudan a importar distintos tipos de herramientas de otros programadores y se pueden especializar en gráficos, funciones matemáticas, imágenes, etc. Encontrarás la lista de todos los módulos y paquetes junto con su documentación en [este enlace.](https://docs.python.org/3/library/index.html)\n",
        "\n",
        "---\n",
        "\n",
        "Y para poder **importar** una librería se hace de la siguiente manera:\n",
        "\n",
        "\n",
        "```\n",
        "from libreria_1 import función         # método 1\n",
        "import libreria_2 as lib_2       # método 2\n",
        "```\n",
        "\n",
        "Con el primer método, se especifica que de la librería `libreria_1` se incorporen todas las funciones tenga, y con el segundo método importamos la librería `libreria_2` como un objeto al que le llamamos `lib_2`.\n",
        "\n",
        "---"
      ],
      "metadata": {
        "id": "ezSrl1MNuaHN"
      }
    },
    {
      "cell_type": "markdown",
      "source": [
        "\n",
        "Las librerías más usuales para el trabajo de cómputo científico son `math`, `numpy`, `scipy` y `pylab`."
      ],
      "metadata": {
        "id": "1Og6KN2QxZhq"
      }
    },
    {
      "cell_type": "markdown",
      "source": [
        "---\n",
        "## *Analizando datos con **Numpy**.* 🔢🔺\n"
      ],
      "metadata": {
        "id": "In9nC5H1yth5"
      }
    },
    {
      "cell_type": "code",
      "execution_count": 7,
      "metadata": {
        "id": "SpjOBfajsMq6"
      },
      "outputs": [],
      "source": [
        "import numpy as np      # se importa la libreria numpy y la llamamos \"np\"\n",
        "import pandas as pd     # se importa la libreria pandas y la llamamos \"pd\""
      ]
    },
    {
      "cell_type": "code",
      "source": [
        "edad_muerte = [75, 62, 80, 70, 25, 72, 76, 90,\n",
        "               63, 101, 82, 60, 100, 90, 90, 60]     # encuesta rápida de la edad hasta la que tenemos planeado vivir jeje\n",
        "\n",
        "edad = np.array(edad_muerte)"
      ],
      "metadata": {
        "id": "DhY3WV-R1osr"
      },
      "execution_count": 8,
      "outputs": []
    },
    {
      "cell_type": "code",
      "source": [
        "# Podemos calcular distintas cosas a partir de las edades\n",
        "edad.mean(), edad.std(), edad.min(), edad.max()"
      ],
      "metadata": {
        "id": "TscdE-3K5V4Z",
        "outputId": "d2d71cfc-c210-46f9-f320-e274b825b568",
        "colab": {
          "base_uri": "https://localhost:8080/"
        }
      },
      "execution_count": 9,
      "outputs": [
        {
          "output_type": "execute_result",
          "data": {
            "text/plain": [
              "(74.75, 18.280795934531955, 25, 101)"
            ]
          },
          "metadata": {},
          "execution_count": 9
        }
      ]
    },
    {
      "cell_type": "markdown",
      "source": [
        "### Broadcasting\n",
        "Nos permite trabajar con arrays de diferentes formas usando operaciones aritméticas. Es decir, es una forma de vectorizar operaciones de arreglos para poder realizar operaciones simples entre arreglos de diferentes dimensiones.\n",
        "\n",
        "$$\\times: (\t\\mathbb{R}^n,\t\\mathbb{R})\\to \t\\mathbb{R}^n$$"
      ],
      "metadata": {
        "id": "daxzL6YSQjUp"
      }
    },
    {
      "cell_type": "code",
      "source": [
        "a = np.array([1.0, 2.0, 3.0])   # vector en R^3\n",
        "b = np.array([2.0, 2.0, 2.0])   # vector en R^3\n",
        "a * b                           # multiplicacion de elementos de los vectores\n",
        "np.array([2.,  4.,  6.])           # vector en R^3"
      ],
      "metadata": {
        "id": "ZdGhyNxElsct",
        "outputId": "c1982431-2031-4cc4-b980-85de2d75aaf2",
        "colab": {
          "base_uri": "https://localhost:8080/"
        }
      },
      "execution_count": 12,
      "outputs": [
        {
          "output_type": "execute_result",
          "data": {
            "text/plain": [
              "array([2., 4., 6.])"
            ]
          },
          "metadata": {},
          "execution_count": 12
        }
      ]
    },
    {
      "cell_type": "code",
      "source": [
        "edad + 10"
      ],
      "metadata": {
        "id": "vLxxc7QCQRUc",
        "outputId": "3437e512-a584-4b50-c212-229048749963",
        "colab": {
          "base_uri": "https://localhost:8080/"
        }
      },
      "execution_count": 13,
      "outputs": [
        {
          "output_type": "execute_result",
          "data": {
            "text/plain": [
              "array([ 85,  72,  90,  80,  35,  82,  86, 100,  73, 111,  92,  70, 110,\n",
              "       100, 100,  70])"
            ]
          },
          "metadata": {},
          "execution_count": 13
        }
      ]
    },
    {
      "cell_type": "code",
      "source": [
        "edad * 10"
      ],
      "metadata": {
        "id": "t-2YcMIwQWvZ",
        "outputId": "2581a39d-7aa9-4152-fb26-994a41a8f13c",
        "colab": {
          "base_uri": "https://localhost:8080/"
        }
      },
      "execution_count": 14,
      "outputs": [
        {
          "output_type": "execute_result",
          "data": {
            "text/plain": [
              "array([ 750,  620,  800,  700,  250,  720,  760,  900,  630, 1010,  820,\n",
              "        600, 1000,  900,  900,  600])"
            ]
          },
          "metadata": {},
          "execution_count": 14
        }
      ]
    },
    {
      "cell_type": "code",
      "source": [
        "1 / edad"
      ],
      "metadata": {
        "id": "HhBEcTm1QZV0",
        "outputId": "c7944a89-76f7-4b0a-f9d4-e0ba26df2dc6",
        "colab": {
          "base_uri": "https://localhost:8080/"
        }
      },
      "execution_count": 15,
      "outputs": [
        {
          "output_type": "execute_result",
          "data": {
            "text/plain": [
              "array([0.01333333, 0.01612903, 0.0125    , 0.01428571, 0.04      ,\n",
              "       0.01388889, 0.01315789, 0.01111111, 0.01587302, 0.00990099,\n",
              "       0.01219512, 0.01666667, 0.01      , 0.01111111, 0.01111111,\n",
              "       0.01666667])"
            ]
          },
          "metadata": {},
          "execution_count": 15
        }
      ]
    },
    {
      "cell_type": "markdown",
      "source": [
        "#### **Funciones útiles:**\n",
        "- `np.array(lista)`: Crea un array (vector) a partir de la lista o tupla.\n",
        "\n",
        "- `np.mean(array)`: Calcula la media de los valores del array.\n",
        "- `np.std(array)`: Calcula la desviación estandar de los valores del array.\n",
        "\n",
        "- `np.linspace(inicio, fin, n)`: Crea un array que es la secuencia de **n** valores equidistantes desde **inicio** hasta **fin**.\n",
        "- `np.zeros(n)`: Devuelve un array de **n** entradas con valor 0.\n",
        "- `np.ones(n)`: Devuelve un array de **n** entradas con valor 1.\n"
      ],
      "metadata": {
        "id": "Uyjezg1f1xkZ"
      }
    },
    {
      "cell_type": "markdown",
      "source": [
        "---\n",
        "## *Apendiendo a graficar con **Matplotlib**✍🏻🌊*\n"
      ],
      "metadata": {
        "id": "-umkO6rGyD3T"
      }
    },
    {
      "cell_type": "code",
      "source": [
        "import math\n",
        "import matplotlib.pyplot as plt     # se importa la libreria matplotlib.pyplot y la nombramos \"plt\"\n",
        "%matplotlib inline "
      ],
      "metadata": {
        "id": "FbOYboqAzqKx"
      },
      "execution_count": 16,
      "outputs": []
    },
    {
      "cell_type": "markdown",
      "source": [
        "Cabe mencionar que en **Jupyter Notebook** existen los ***magic commands*** que son \"**librerías**\" que funcionan en los notebooks como scripts para hacer la integración de varios ambientes o entornos de programación mucho más amigables. \n",
        "\n",
        "El siguiente comando:\n",
        "\n",
        "```\n",
        "%matplotlib inline\n",
        "```\n",
        "\n",
        "se utiliza para hacer que el despliegue gráfico de la librería matplotlib se haga dentro del mismo notebook en lugar de que se haga en una terminal gráfica externa."
      ],
      "metadata": {
        "id": "zcdnGx1K0sv5"
      }
    },
    {
      "cell_type": "markdown",
      "source": [
        "#### Para poder graficar necesitamos solamente dos cosas:\n",
        "- Definir el rango ($x$)\n",
        "- Definir el dominio ($y$)"
      ],
      "metadata": {
        "id": "EReSQlz5rpgd"
      }
    },
    {
      "cell_type": "code",
      "source": [
        "x = np.linspace(0, 2*np.pi, 1000)\n",
        "y = np.sin(x)"
      ],
      "metadata": {
        "id": "_nK2_w021wT1"
      },
      "execution_count": 17,
      "outputs": []
    },
    {
      "cell_type": "code",
      "source": [
        "plt.plot(x, y)\n",
        "plt.show()"
      ],
      "metadata": {
        "id": "IHk4oSyY0RXY",
        "outputId": "4e6c653e-b440-48ba-aede-1793b9894250",
        "colab": {
          "base_uri": "https://localhost:8080/",
          "height": 265
        }
      },
      "execution_count": 18,
      "outputs": [
        {
          "output_type": "display_data",
          "data": {
            "text/plain": [
              "<Figure size 432x288 with 1 Axes>"
            ],
            "image/png": "[encoded data removed]"
          },
          "metadata": {
            "needs_background": "light"
          }
        }
      ]
    },
    {
      "cell_type": "markdown",
      "source": [
        "#### Ahora ya podemos empezar a \"***tunear***\" nuestra gráfica"
      ],
      "metadata": {
        "id": "2QE2Zh-2sPty"
      }
    },
    {
      "cell_type": "code",
      "source": [
        "plt.plot(x, y, \"-\")\n",
        "\n",
        "plt.title(r\"$\\sin(x)$ for $x\\in\\{0, 2\\pi\\}$\", fontsize = 24)\n",
        "plt.xlabel(\"$x$\", fontsize = 16)\n",
        "plt.ylabel(\"$y$\", fontsize = 16)\n",
        "plt.grid()\n",
        "\n",
        "plt.show()"
      ],
      "metadata": {
        "id": "C5ZM2GseTIIB",
        "outputId": "57ec68fc-9798-4faa-8fb7-43e128e46976",
        "colab": {
          "base_uri": "https://localhost:8080/",
          "height": 311
        }
      },
      "execution_count": 19,
      "outputs": [
        {
          "output_type": "display_data",
          "data": {
            "text/plain": [
              "<Figure size 432x288 with 1 Axes>"
            ],
            "image/png": "[encoded data removed]"
          },
          "metadata": {
            "needs_background": "light"
          }
        }
      ]
    },
    {
      "cell_type": "markdown",
      "source": [
        "### Vamos a graficar una circunferencia\n",
        "\n",
        "Para ello necesitamos saber como parametrizar nuestra circunferencia en el plano $xy$.\n",
        "\n",
        "Recordando un poco de geometría analítica sabemos que las ecuaciones que describen la circunferencia son las siguientes:"
      ],
      "metadata": {
        "id": "Bu4SJzGeWWB8"
      }
    },
    {
      "cell_type": "markdown",
      "source": [
        "\n",
        "$$(x-h)^2 + (y-k)^2 = r^2,\\quad \\text{donde $(h,k)$ es el centro y $r$ es el radio}$$"
      ],
      "metadata": {
        "id": "VaeWlnwHqmqc"
      }
    },
    {
      "cell_type": "markdown",
      "source": [
        "\n",
        "Y de aquí se pueden obtener las parametrizaciones para $x$ y $y$ en función del radio y del ángulo.\n",
        "\n",
        "$$x(r,\\theta) = r\\cdot\\cos(\\theta) + h$$\n",
        "$$y(r,\\theta) = r\\cdot\\sin(\\theta) + k$$\n",
        "\n",
        "con $r\\geq 0$ y $\\theta \\in [0, 2\\pi)$ "
      ],
      "metadata": {
        "id": "Lb3536TrqpQN"
      }
    },
    {
      "cell_type": "code",
      "source": [
        "h, k = 5, 10             # fijamos el centro de la circunferencia\n",
        "r = 10                  # establecemos el radio\n",
        "\n",
        "angulo = np.linspace(0, 2*np.pi)   # definimos el rango de valores de 0 a 2*pi para el ángulo\n",
        "\n",
        "x = r * np.cos(angulo) + h  # ecuacion para x\n",
        "y = r * np.sin(angulo) + k  # ecuacion para y\n",
        "\n",
        "plt.figure(figsize=(7, 7))\n",
        "plt.plot(x,y)\n",
        "plt.title(f\"Circunferencia con $r={r}$ y $(h,k)=({h},{k})$\", fontsize=18)\n",
        "plt.xlabel(\"x\"); plt.ylabel(\"y\"); \n",
        "plt.grid()\n",
        "plt.show()"
      ],
      "metadata": {
        "id": "ahsPDDYtVShu",
        "outputId": "704231e7-25b5-4216-ebf8-84f7d8683b2e",
        "colab": {
          "base_uri": "https://localhost:8080/",
          "height": 464
        }
      },
      "execution_count": 25,
      "outputs": [
        {
          "output_type": "display_data",
          "data": {
            "text/plain": [
              "<Figure size 504x504 with 1 Axes>"
            ],
            "image/png": "[encoded data removed]"
          },
          "metadata": {
            "needs_background": "light"
          }
        }
      ]
    },
    {
      "cell_type": "markdown",
      "source": [
        "Tambien podemos graficar cosas que no sean funciones, por ejemplo datos experimentales. \n",
        "\n",
        "Y para esto nos será útil la función `plt.scatter()`"
      ],
      "metadata": {
        "id": "aB0WECoStQAk"
      }
    },
    {
      "cell_type": "code",
      "source": [
        "x = np.array([0, 8, 6, -4, 3, 9])\n",
        "y = np.array([17, 45, 6, 99, 0, 70])\n",
        "\n",
        "plt.figure(figsize=(10,5))\n",
        "plt.scatter(x, y, s=200)\n",
        "plt.grid()"
      ],
      "metadata": {
        "id": "PYcd5-mMTqMS",
        "outputId": "a5a1fcf1-1430-48ae-847c-b28b0f796b00",
        "colab": {
          "base_uri": "https://localhost:8080/",
          "height": 320
        }
      },
      "execution_count": 29,
      "outputs": [
        {
          "output_type": "display_data",
          "data": {
            "text/plain": [
              "<Figure size 720x360 with 1 Axes>"
            ],
            "image/png": "[encoded data removed]"
          },
          "metadata": {
            "needs_background": "light"
          }
        }
      ]
    },
    {
      "cell_type": "markdown",
      "source": [
        "---\n",
        "## *Visualizando tablas con **Pandas**.*  🐼🐼🍃"
      ],
      "metadata": {
        "id": "E50qOnCxoKpf"
      }
    },
    {
      "cell_type": "code",
      "source": [],
      "metadata": {
        "id": "S51sD3LXW6ns"
      },
      "execution_count": null,
      "outputs": []
    }
  ]
}

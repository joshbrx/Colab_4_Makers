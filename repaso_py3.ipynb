{
  "cells": [
    {
      "cell_type": "markdown",
      "metadata": {
        "id": "view-in-github",
        "colab_type": "text"
      },
      "source": [
        "<a href=\"https://colab.research.google.com/github/joshbrx/Intro_a_colab_py3/blob/main/repaso_py3.ipynb\" target=\"_parent\"><img src=\"https://colab.research.google.com/assets/colab-badge.svg\" alt=\"Open In Colab\"/></a>"
      ]
    },
    {
      "cell_type": "markdown",
      "metadata": {
        "id": "uoZ5MTojDFtM"
      },
      "source": [
        "# *Un repaso por Python 3* 📗📖\n",
        "\n",
        "### Hola! Seguro te encuentras con ganas de empezar a programar, pero antes vamos a recordar qué es **Python** dentro del mundo del cómputo."
      ]
    },
    {
      "cell_type": "markdown",
      "metadata": {
        "id": "3Upw4nj9DFti"
      },
      "source": [
        "Python es un lenguaje de programación de alto nivel, orientado a objetos. Desarrollado a finales de los años 80's por Guido Van Rossum (Van Rossum se hace llamar BDFL \"Benevolent Dictator for Life\" siguiendo la broma de Monty Python). Es uno de los lenguajes más usados en el ámbito científico: Fortran, C, Matematica, Python, Matlab, Julia. [FLOW lab: Scientific Programming Languages](https://flow.byu.edu/posts/sci-prog-lang)\n",
        "\n",
        "También es uno de los lenguajes de programación más solicitados en el ámbito laboral. [Stackify: Popular programming languages of 2019](https://stackify.com/popular-programming-languages-2018/)\n",
        "\n",
        "Características:\n",
        "\n",
        "1. No se compila a lenguaje máquina, se ejecuta en un intérprete.\n",
        "    \n",
        "2. Genera códigos más cortos y limpios que otros lenguajes de programación. Es un buen lenguaje para empezar a programar.\n",
        "\n",
        "3. Es software libre. Cumple con las 4 libertades: (i) Libertad de ser usado. (ii) Libertad de ser modificado. (iii) Libertad de ser compartido. (iv) Libertad de ser modificado y compartido.\n",
        "\n",
        "4. Es multiplataformas. Hay editores de Python para Windows, Linux, Mac y Android. Además de que puede ser ejecutado en línea.\n",
        "\n",
        "5. Fácil de Instalar.\n",
        "\n",
        "6. Hereda características de C y Matlab."
      ]
    },
    {
      "cell_type": "markdown",
      "metadata": {
        "id": "GTuyUHvPDFtq"
      },
      "source": [
        "### **Compilador versus intérprete:**\n",
        "    \n",
        "**Compilador**: \"Traduce todo a código máquina, y finalmente ejecuta\".\n",
        "    \n",
        "    Archivo -> Fortran(compilador) -> traduce todo a código máquina -> ejecuta\n",
        "\n",
        "**Intérprete**: \"Traduce un bloque código máquina, ejecuta y repite con la siguiente linea\" \n",
        "    \n",
        "    Archivo -> Python(intérprete) -> traduce una linea a código máquina -> ejecuta -> repite con siguiente linea"
      ]
    },
    {
      "cell_type": "markdown",
      "metadata": {
        "id": "WHxslv0vDFtt"
      },
      "source": [
        "Actualmente, Python es muy usado Google, Yahoo, CERN, Nasa y en todo lo que es Ciencia de Datos. Esto se debe a que tiene una curva de aprendizaje pequeña"
      ]
    },
    {
      "cell_type": "markdown",
      "source": [
        "\n",
        "\n",
        "---\n",
        "\n",
        "\n",
        "## Python como *calculadora*"
      ],
      "metadata": {
        "id": "XaMMzasaMchl"
      }
    },
    {
      "cell_type": "markdown",
      "metadata": {
        "id": "odpwGDKYDFtx"
      },
      "source": [
        "### Operaciones Binarias.    $\\times:(a,b) → c$\n",
        "\n",
        "- \"+\" (Suma),\n",
        "- \"-\" (Resta), \n",
        "- \"*\" (Multiplicación), \n",
        "- \"/\" (División), \n",
        "- \"**\" (Exponenciación),\n",
        "- \"//\" (División de piso: división que resulta en un número entero ajustado a la izquierda en la recta numérica), \n",
        "- \"%\" (Módulo: regresa el residuo de la división)\n"
      ]
    },
    {
      "cell_type": "markdown",
      "metadata": {
        "id": "exmhjiRtDFt0"
      },
      "source": [
        "\n",
        "---\n",
        "\n",
        "\n",
        "##    Asignación de variables"
      ]
    },
    {
      "cell_type": "markdown",
      "metadata": {
        "id": "c7mepkKtDFt2"
      },
      "source": [
        "En todos los lenguajes de programación, se puede definir una variable para representa un valor dado alojado en la memoria. El valor puede cambiar, pero no el tipo de variable. Sin embargo en Pythoncontamos con variables dinámicas."
      ]
    },
    {
      "cell_type": "code",
      "execution_count": null,
      "metadata": {
        "id": "GqOKi3zaDFt7"
      },
      "outputs": [],
      "source": [
        "b = 2       # \"b\" es una variable entera"
      ]
    },
    {
      "cell_type": "code",
      "execution_count": null,
      "metadata": {
        "id": "KwoGSRMfDFuD",
        "outputId": "4284ee09-35d5-4b20-fe13-4797cc87ace2"
      },
      "outputs": [
        {
          "data": {
            "text/plain": [
              "int"
            ]
          },
          "execution_count": 34,
          "metadata": {},
          "output_type": "execute_result"
        }
      ],
      "source": [
        "type(b)     # la función type() dice el de variable que es \"b\""
      ]
    },
    {
      "cell_type": "code",
      "execution_count": null,
      "metadata": {
        "id": "D86255zmDFuI",
        "outputId": "4ba396a5-adc2-4278-e09e-b7c4c4a6634a",
        "colab": {
          "base_uri": "https://localhost:8080/",
          "height": 165
        }
      },
      "outputs": [
        {
          "output_type": "error",
          "ename": "NameError",
          "evalue": "ignored",
          "traceback": [
            "\u001b[0;31m---------------------------------------------------------------------------\u001b[0m",
            "\u001b[0;31mNameError\u001b[0m                                 Traceback (most recent call last)",
            "\u001b[0;32m<ipython-input-1-66fd96605b44>\u001b[0m in \u001b[0;36m<module>\u001b[0;34m\u001b[0m\n\u001b[0;32m----> 1\u001b[0;31m \u001b[0mb\u001b[0m \u001b[0;34m=\u001b[0m \u001b[0mb\u001b[0m \u001b[0;34m*\u001b[0m \u001b[0;36m2.0\u001b[0m     \u001b[0;31m#cambiamos dinámicamente el tipo de variable y actualizamos el valor de \"b\"\u001b[0m\u001b[0;34m\u001b[0m\u001b[0;34m\u001b[0m\u001b[0m\n\u001b[0m",
            "\u001b[0;31mNameError\u001b[0m: name 'b' is not defined"
          ]
        }
      ],
      "source": [
        "b = b * 2.0     #cambiamos dinámicamente el tipo de variable y actualizamos el valor de \"b\""
      ]
    },
    {
      "cell_type": "code",
      "execution_count": null,
      "metadata": {
        "id": "1jyJazfPDFuM",
        "outputId": "9e086273-35d6-465c-f95d-5a9a91b0c1e3"
      },
      "outputs": [
        {
          "data": {
            "text/plain": [
              "float"
            ]
          },
          "execution_count": 36,
          "metadata": {},
          "output_type": "execute_result"
        }
      ],
      "source": [
        "type(b)     # ha cambiado el tipo de variable, de \"int\" a \"float\" :0"
      ]
    },
    {
      "cell_type": "markdown",
      "metadata": {
        "id": "KnPQKcQcDFuO"
      },
      "source": [
        "## Tipos de variables\n",
        "\n",
        "- `int()`   -> Enteras \"Integer\": 0, 1, 4, 19999, -4\n",
        "- `float()` -> Flotantes \"Float\": 0.9999999, 1.0, 7.1\n",
        "- `str()`   -> Cadena de Caracteres: \"Hola mundo\", \"miau\", \"Zacatecas\"\n",
        "- `bool()`  -> Booleana con valores: `True` ó `False`"
      ]
    },
    {
      "cell_type": "markdown",
      "metadata": {
        "id": "JYDDqIDBDFuQ"
      },
      "source": [
        "Por un lado, con el operador `=` asignamos el valor a una variable (Creamos en la memoria la variable). \n",
        "\n",
        "Por el otro, con el operador `==` hacemos la comparación de dos cosas (idéntico a ...). Nótese que `=` no es una operación simétrica, es decir, no es valido escribir 5=x"
      ]
    },
    {
      "cell_type": "code",
      "execution_count": null,
      "metadata": {
        "id": "6Dn2iaCcDFuS",
        "outputId": "a460a6de-d80b-47a8-8aec-15f62ff02a8b",
        "colab": {
          "base_uri": "https://localhost:8080/"
        }
      },
      "outputs": [
        {
          "output_type": "stream",
          "name": "stdout",
          "text": [
            "3.3333333333333335\n",
            "0.3\n",
            "3\n",
            "0\n"
          ]
        }
      ],
      "source": [
        "print(10/3)\n",
        "print(3/10)\n",
        "print(10//3)\n",
        "print(3//10) # \"//\" regresa la parte entera de la división"
      ]
    },
    {
      "cell_type": "code",
      "execution_count": null,
      "metadata": {
        "id": "6lWRO9dBDFuU",
        "outputId": "40258a0b-d735-4b4b-c676-753e4fadfe65",
        "colab": {
          "base_uri": "https://localhost:8080/"
        }
      },
      "outputs": [
        {
          "output_type": "stream",
          "name": "stdout",
          "text": [
            "1 ,  3\n"
          ]
        }
      ],
      "source": [
        "print(10%3,\", \", 3%10)   # imprime el residuo de la operación"
      ]
    },
    {
      "cell_type": "code",
      "source": [
        "int(2.5) # algo en entero"
      ],
      "metadata": {
        "id": "fpEEQ4ciY-jT"
      },
      "execution_count": null,
      "outputs": []
    },
    {
      "cell_type": "code",
      "source": [
        "str(4.8) # algo a cadena de caracteres"
      ],
      "metadata": {
        "id": "4V-x3fenZS9s"
      },
      "execution_count": null,
      "outputs": []
    },
    {
      "cell_type": "code",
      "source": [
        "float('cadena')"
      ],
      "metadata": {
        "id": "HnmbtT12ZX2d"
      },
      "execution_count": null,
      "outputs": []
    },
    {
      "cell_type": "markdown",
      "metadata": {
        "id": "nKQe-jtCDFuV"
      },
      "source": [
        "### Asignación de múltiples variables simultáneas"
      ]
    },
    {
      "cell_type": "code",
      "execution_count": null,
      "metadata": {
        "id": "mGzc---MDFuX"
      },
      "outputs": [],
      "source": [
        "x, y, z = 1, 2, 3.0     # definimos nuestras 3 variables al mismo tiempo"
      ]
    },
    {
      "cell_type": "code",
      "execution_count": null,
      "metadata": {
        "id": "qHGYHzRJDFuY",
        "outputId": "a335d37e-6652-47b4-df32-b7595ef391af",
        "colab": {
          "base_uri": "https://localhost:8080/"
        }
      },
      "outputs": [
        {
          "output_type": "stream",
          "name": "stdout",
          "text": [
            "1\n",
            "2\n",
            "3.0\n"
          ]
        }
      ],
      "source": [
        "print(x)\n",
        "print(y)\n",
        "print(z)"
      ]
    },
    {
      "cell_type": "markdown",
      "source": [
        "### Operadores lógicos y de comparación\n",
        "- `and`: Operador conjuntivo\n",
        "- `or`: Operador disyuntivo\n",
        "- `not`: Operador de negación"
      ],
      "metadata": {
        "id": "RKAe8FkbaXtz"
      }
    },
    {
      "cell_type": "code",
      "source": [
        "True and False"
      ],
      "metadata": {
        "id": "M7HBvJkraVyw"
      },
      "execution_count": null,
      "outputs": []
    },
    {
      "cell_type": "code",
      "source": [
        "(True and False) or True "
      ],
      "metadata": {
        "id": "-Q4hCG1dagrv"
      },
      "execution_count": null,
      "outputs": []
    },
    {
      "cell_type": "code",
      "source": [
        "not True"
      ],
      "metadata": {
        "id": "RmT0kLFAaofO"
      },
      "execution_count": null,
      "outputs": []
    },
    {
      "cell_type": "markdown",
      "source": [
        "- `<`: \"menor que\"\n",
        "- `>`: \"mayor que\"\n",
        "- `<=`: \"menor o igual que\" \n",
        "- `>=`: \"mayor o igual que\" \n",
        "- `==`: \"idéntico que\" \n",
        "- `!=`: \"distinto que\""
      ],
      "metadata": {
        "id": "j1pBnl_Wa1PR"
      }
    },
    {
      "cell_type": "code",
      "source": [
        "5>1"
      ],
      "metadata": {
        "id": "ByXDEj2lcH1c"
      },
      "execution_count": null,
      "outputs": []
    },
    {
      "cell_type": "code",
      "source": [
        "5>5"
      ],
      "metadata": {
        "id": "HVWjxhFCcMCS"
      },
      "execution_count": null,
      "outputs": []
    },
    {
      "cell_type": "code",
      "source": [
        "5>=5"
      ],
      "metadata": {
        "id": "R9wSkk4vcOZB"
      },
      "execution_count": null,
      "outputs": []
    },
    {
      "cell_type": "code",
      "source": [
        "1!=0"
      ],
      "metadata": {
        "id": "tF2A5cHMcQrm"
      },
      "execution_count": null,
      "outputs": []
    },
    {
      "cell_type": "code",
      "source": [
        "1!=1"
      ],
      "metadata": {
        "id": "Hvmmnb0mcSes"
      },
      "execution_count": null,
      "outputs": []
    },
    {
      "cell_type": "code",
      "source": [
        "True==1"
      ],
      "metadata": {
        "id": "HpmscDFacUjm"
      },
      "execution_count": null,
      "outputs": []
    },
    {
      "cell_type": "code",
      "source": [
        "False==0"
      ],
      "metadata": {
        "id": "EvUAJDPccXOo"
      },
      "execution_count": null,
      "outputs": []
    },
    {
      "cell_type": "code",
      "source": [
        "True+2"
      ],
      "metadata": {
        "id": "n2a21B1RcYwv"
      },
      "execution_count": null,
      "outputs": []
    },
    {
      "cell_type": "code",
      "source": [
        "False+True"
      ],
      "metadata": {
        "id": "ROhMJo47ca-K"
      },
      "execution_count": null,
      "outputs": []
    },
    {
      "cell_type": "markdown",
      "metadata": {
        "id": "QV_W6g8-DFua"
      },
      "source": [
        "### Identificadores (Identifiers):"
      ]
    },
    {
      "cell_type": "markdown",
      "metadata": {
        "id": "iVZmL02iDFud"
      },
      "source": [
        "Secuencia de letras idéntificadas por Python para llevar a cabo una función. No se pueden usar como nombre de variables (`and`, `or`, `for`, `while`, `del`, `append`, entre otras). \n",
        "Es importante mencionar que Python distingue entre mayúsculas y minúsculas"
      ]
    },
    {
      "cell_type": "code",
      "execution_count": null,
      "metadata": {
        "id": "_k7-WVktDFuh",
        "outputId": "a68dd9c5-75e2-4350-f621-ef94da78b451"
      },
      "outputs": [
        {
          "name": "stdout",
          "output_type": "stream",
          "text": [
            "3.141592653589793\n",
            "3.141592653589793115997963468544185161590576171875\n"
          ]
        }
      ],
      "source": [
        "from math import pi #desde math importa la variable pi\n",
        "print(pi)\n",
        "#Si queremos más valores de pi, importamos el módulo decimal\n",
        "from decimal import Decimal\n",
        "print(Decimal(pi))"
      ]
    },
    {
      "cell_type": "markdown",
      "metadata": {
        "id": "ZAWGbkJfDFuj"
      },
      "source": [
        "### Notación Cientifica"
      ]
    },
    {
      "cell_type": "code",
      "execution_count": null,
      "metadata": {
        "id": "kUtPWyQZDFul",
        "outputId": "fc31ff9e-6d2c-4607-d55f-b20631053738"
      },
      "outputs": [
        {
          "name": "stdout",
          "output_type": "stream",
          "text": [
            "El numero de avogadro es 6.022e+23\n",
            "Velocidad de la Luz = 299800000.0\n"
          ]
        }
      ],
      "source": [
        "numero_avogadro = 6.022e23\n",
        "c = 2.998e8\n",
        "print(\"El numero de avogadro es\", numero_avogadro)\n",
        "print(\"Velocidad de la Luz =\", c)"
      ]
    },
    {
      "cell_type": "markdown",
      "metadata": {
        "id": "DwAtadgxDFum"
      },
      "source": [
        "###     Cadena de Caracteres (String) "
      ]
    },
    {
      "cell_type": "markdown",
      "metadata": {
        "id": "cu2zb_khDFun"
      },
      "source": [
        "Las cadenas son secuencias de caracteres que están entre dos comillas o una comilla."
      ]
    },
    {
      "cell_type": "code",
      "execution_count": null,
      "metadata": {
        "id": "YF47zB71DFuo"
      },
      "outputs": [],
      "source": [
        "cadena1='Hola '"
      ]
    },
    {
      "cell_type": "code",
      "execution_count": null,
      "metadata": {
        "id": "-Bu1nqcqDFup"
      },
      "outputs": [],
      "source": [
        "cadena2='a todos'"
      ]
    },
    {
      "cell_type": "markdown",
      "metadata": {
        "id": "krWJASwzDFuq"
      },
      "source": [
        "Con estas dos cadenas hacemos la acción de concaternar (Pegar el inicio de una cadena al final de la otra)."
      ]
    },
    {
      "cell_type": "code",
      "execution_count": null,
      "metadata": {
        "id": "ZbCd6wJ0DFus",
        "outputId": "7745857f-371a-4790-ffa2-2110a286a78b"
      },
      "outputs": [
        {
          "name": "stdout",
          "output_type": "stream",
          "text": [
            "Hola a todos\n"
          ]
        }
      ],
      "source": [
        "print(cadena1+cadena2)"
      ]
    },
    {
      "cell_type": "markdown",
      "metadata": {
        "id": "UZYhYZzKDFut"
      },
      "source": [
        "Puedo seleccionar lo que quiero que aparezca (cortar selectivamente)"
      ]
    },
    {
      "cell_type": "code",
      "execution_count": null,
      "metadata": {
        "id": "JOOJlH-2DFuu",
        "outputId": "48cbbf5e-ac6a-441a-f573-70db174c9bfc"
      },
      "outputs": [
        {
          "name": "stdout",
          "output_type": "stream",
          "text": [
            "a t\n"
          ]
        }
      ],
      "source": [
        "print(cadena2[0:3])"
      ]
    },
    {
      "cell_type": "markdown",
      "metadata": {
        "id": "x3bvk8P2DFuw"
      },
      "source": [
        "Las cadenas son inmutables"
      ]
    },
    {
      "cell_type": "code",
      "execution_count": null,
      "metadata": {
        "id": "9JZugr6sDFux",
        "outputId": "4398a56e-8157-4b10-9dd5-4b70095f1954"
      },
      "outputs": [
        {
          "name": "stdout",
          "output_type": "stream",
          "text": [
            "3\n"
          ]
        }
      ],
      "source": [
        "a=3\n",
        "print(a)"
      ]
    },
    {
      "cell_type": "code",
      "execution_count": null,
      "metadata": {
        "id": "aAgj8f1kDFuz",
        "outputId": "cdf3e6c0-455f-40b1-e95e-34e92c6c8f38"
      },
      "outputs": [
        {
          "name": "stdout",
          "output_type": "stream",
          "text": [
            "4\n"
          ]
        }
      ],
      "source": [
        "a=4\n",
        "print(a)"
      ]
    },
    {
      "cell_type": "code",
      "execution_count": null,
      "metadata": {
        "id": "6JJGqRZiDFu0",
        "outputId": "b6d220be-a5ea-4fb2-e436-529ad8b12a8f"
      },
      "outputs": [
        {
          "data": {
            "text/plain": [
              "'Hola'"
            ]
          },
          "execution_count": 47,
          "metadata": {},
          "output_type": "execute_result"
        }
      ],
      "source": [
        "s='hola'\n",
        "s.capitalize()"
      ]
    },
    {
      "cell_type": "code",
      "execution_count": null,
      "metadata": {
        "id": "m8OlJHHUDFu3",
        "outputId": "3b95841b-18ba-47d4-b2cb-f5ae1ef3c5ad",
        "colab": {
          "base_uri": "https://localhost:8080/"
        }
      },
      "outputs": [
        {
          "output_type": "stream",
          "name": "stdout",
          "text": [
            "python\n",
            "PYTHON\n"
          ]
        }
      ],
      "source": [
        "print(\"Python\".lower())\n",
        "print(\"python\".upper())"
      ]
    },
    {
      "cell_type": "code",
      "execution_count": null,
      "metadata": {
        "id": "ls6qnbtVDFu5",
        "outputId": "d261e790-7202-4eb5-ffd8-6dc8623f7c55",
        "colab": {
          "base_uri": "https://localhost:8080/",
          "height": 35
        }
      },
      "outputs": [
        {
          "output_type": "execute_result",
          "data": {
            "text/plain": [
              "'Se me antojó un gansito'"
            ],
            "application/vnd.google.colaboratory.intrinsic+json": {
              "type": "string"
            }
          },
          "metadata": {},
          "execution_count": 10
        }
      ],
      "source": [
        "\"Se me\" + \" antojó\" +\" \"+ \"un gansito\""
      ]
    },
    {
      "cell_type": "code",
      "execution_count": null,
      "metadata": {
        "id": "cxroKVsQDFu6",
        "outputId": "70404218-59ba-4cf4-e47e-e2f867dbd0c5",
        "colab": {
          "base_uri": "https://localhost:8080/",
          "height": 35
        }
      },
      "outputs": [
        {
          "output_type": "execute_result",
          "data": {
            "text/plain": [
              "'miau miau miau '"
            ],
            "application/vnd.google.colaboratory.intrinsic+json": {
              "type": "string"
            }
          },
          "metadata": {},
          "execution_count": 12
        }
      ],
      "source": [
        "3*(\"miau\"+\" \")"
      ]
    },
    {
      "cell_type": "markdown",
      "source": [
        "---\n",
        "## Funciones predefinidas\n",
        "\n",
        "Dentro de Python podemos llamar funciones para relizar tareas simples tales como las siguientes:"
      ],
      "metadata": {
        "id": "K0edUIr0TIiy"
      }
    },
    {
      "cell_type": "code",
      "source": [
        "abs?\n",
        "# abs(-10)       # funciona con enteros y flotantes\n",
        "# abs(4 - 4j)    # también funciona con números imaginarios"
      ],
      "metadata": {
        "id": "VATkPFGiX9Ti"
      },
      "execution_count": null,
      "outputs": []
    },
    {
      "cell_type": "code",
      "source": [
        "round?\n",
        "# round(4.65748298457,3)"
      ],
      "metadata": {
        "id": "DJFQEmcfYKHq",
        "outputId": "33e212c2-16ec-483b-ca57-d0174361fa5c",
        "colab": {
          "base_uri": "https://localhost:8080/"
        }
      },
      "execution_count": null,
      "outputs": [
        {
          "output_type": "execute_result",
          "data": {
            "text/plain": [
              "5.656854249492381"
            ]
          },
          "metadata": {},
          "execution_count": 9
        }
      ]
    },
    {
      "cell_type": "code",
      "source": [
        "floor?\n",
        "# floor(4.65748298457)"
      ],
      "metadata": {
        "id": "36YHxGNHZv3V"
      },
      "execution_count": null,
      "outputs": []
    },
    {
      "cell_type": "code",
      "source": [
        "ceil?\n",
        "# ceil(4.65748298457)"
      ],
      "metadata": {
        "id": "UjHIcCEHaD6_"
      },
      "execution_count": null,
      "outputs": []
    },
    {
      "cell_type": "code",
      "source": [
        "input?\n",
        "# print('Introduce cualquier texto:')\n",
        "# x = input()\n",
        "# print('El texto que introdujiste fue:', x)\n",
        "# print('El tipo de variable que genera x es:', type(x))"
      ],
      "metadata": {
        "id": "rkrCmBHMYpzZ"
      },
      "execution_count": null,
      "outputs": []
    },
    {
      "cell_type": "markdown",
      "source": [
        "---\n",
        "\n",
        "## Ciclos y estructuras"
      ],
      "metadata": {
        "id": "tItHfOpJW_l3"
      }
    },
    {
      "cell_type": "markdown",
      "source": [
        "### Ciclo **For**\n",
        "El ciclo **`for`** es el primer ciclo que veremos, se utiliza para recorrer los elementos de un objeto iterable (lista, tupla, conjunto, diccionario, …) y ejecutar un bloque de código. En cada paso de la iteración se tiene en cuenta a un único elemento del objeto iterable, sobre el cuál se pueden aplicar un bloque de código.\n",
        "\n",
        "Este ciclo tiene la siguiente sintáxis:\n",
        "\n",
        "```\n",
        "for <elem> in <iterable>:\n",
        "    <Tu código>\n",
        "```"
      ],
      "metadata": {
        "id": "MjIMk3WAk7gJ"
      }
    },
    {
      "cell_type": "code",
      "source": [
        "nums = [4, 78, 9, 84]\n",
        "for n in nums:\n",
        "    print(n)"
      ],
      "metadata": {
        "id": "Ql3FJG-4lTVJ",
        "outputId": "977c2c3f-4b9d-4c53-f0a8-ed748e7d6de5",
        "colab": {
          "base_uri": "https://localhost:8080/"
        }
      },
      "execution_count": 13,
      "outputs": [
        {
          "output_type": "stream",
          "name": "stdout",
          "text": [
            "4\n",
            "78\n",
            "9\n",
            "84\n"
          ]
        }
      ]
    },
    {
      "cell_type": "code",
      "source": [
        "for i in range(11):\n",
        "    print(i)"
      ],
      "metadata": {
        "id": "ELn77jDommBE"
      },
      "execution_count": null,
      "outputs": []
    },
    {
      "cell_type": "markdown",
      "source": [
        "### Ciclo **While**\n",
        "El ciclo **while** es otra estructura de control de flujo, lo que hace es repetir un código mientras sea verdadera una condición determinada.\n",
        "\n",
        "Su sintáxis es la siguiente:\n",
        "\n",
        "```\n",
        "while <condición>:\n",
        "    <Tu código>\n",
        "```"
      ],
      "metadata": {
        "id": "rotrq9zfmrHV"
      }
    },
    {
      "cell_type": "code",
      "source": [
        "contador=0      # condicion inicial\n",
        "while contador<=10:\n",
        "    contador=contador+1\n",
        "    print(contador)"
      ],
      "metadata": {
        "id": "hYN1FBECn1H0"
      },
      "execution_count": null,
      "outputs": []
    },
    {
      "cell_type": "code",
      "source": [
        "a, b = 0, 1     # imprime la serie Fibonacci\n",
        "while b < 30:\n",
        "    print(b)\n",
        "    a,b = b, a+b"
      ],
      "metadata": {
        "id": "Jk4FyICVoJ-c"
      },
      "execution_count": null,
      "outputs": []
    },
    {
      "cell_type": "markdown",
      "source": [
        "### Estructura **if**\n",
        "La estructura **if** se utiliza para ejecutar un bloque de código si, y solo si, se cumple una determinada condición. Por tanto, **if** es usado para la toma de decisiones.\n",
        "\n",
        "La sintáxis de esta estructura es la siguiente:\n",
        "\n",
        "```\n",
        "if <condición>:\n",
        "    <Tu código>\n",
        "```"
      ],
      "metadata": {
        "id": "gZHDPuLvoQ7w"
      }
    },
    {
      "cell_type": "code",
      "source": [
        "x = 17\n",
        "if x < 20:\n",
        "    print('x es menor que 20')"
      ],
      "metadata": {
        "id": "qYiE1lYGpIKu"
      },
      "execution_count": null,
      "outputs": []
    },
    {
      "cell_type": "markdown",
      "source": [
        "### Estructura **if-else**\n",
        "Hay ocasiones en que la sentencia **if** básica no es suficiente y es necesario ejecutar un conjunto de instrucciones o sentencias cuando la condición se evalúa a `False`.\n",
        "\n",
        "Para ello se utiliza la estructura **if-else**.\n",
        "```\n",
        "if <condición>:\n",
        "    <bloque de código 1, si la condición es verdadera>\n",
        "else:\n",
        "    <bloque de código 2, si la condición es falsa>\n",
        "```"
      ],
      "metadata": {
        "id": "D5HQ5RTEph-_"
      }
    },
    {
      "cell_type": "code",
      "source": [
        "resultado = None\n",
        "x = 10\n",
        "y = 2\n",
        "if y != 0:\n",
        "    resultado = x / y\n",
        "else:\n",
        "    resultado = f'No se puede dividir {x} entre {y}'\n",
        "print(resultado)"
      ],
      "metadata": {
        "id": "0Uu4I8lGpLKj",
        "outputId": "6dd2f5cc-91fe-4bf6-c03d-fd6522320eb3",
        "colab": {
          "base_uri": "https://localhost:8080/"
        }
      },
      "execution_count": 14,
      "outputs": [
        {
          "output_type": "stream",
          "name": "stdout",
          "text": [
            "5.0\n"
          ]
        }
      ]
    },
    {
      "cell_type": "markdown",
      "source": [
        "### Estructura **else-elif-else**\n",
        "También es posible que te encuentres situaciones en que una decisión dependa de más de una condición.\n",
        "\n",
        "En estos casos se usa una sentencia if compuesta, cuya estructura es como se indica a continuación:\n",
        "\n",
        "```\n",
        "if <condición 1>:\n",
        "    <bloque de código 1, si la condición 1 es verdadera>\n",
        "elif <condición 2>:\n",
        "    <bloque de código 2, si la condición 2 es verdadera>\n",
        "...\n",
        "else:\n",
        "    <bloque de código else, si ninguna condición es verdadera>\n",
        "```\n",
        "\n"
      ],
      "metadata": {
        "id": "NGS4dKqJqUgY"
      }
    },
    {
      "cell_type": "code",
      "source": [
        "x = 28\n",
        "if x < 0:\n",
        "    print(f'{x} es menor que 0')\n",
        "elif x > 0:\n",
        "    print(f'{x} es mayor que 0')\n",
        "else:\n",
        "    print('x es 0')"
      ],
      "metadata": {
        "id": "8LMllKp3qR5_"
      },
      "execution_count": null,
      "outputs": []
    },
    {
      "cell_type": "markdown",
      "source": [
        "---\n",
        "\n",
        "## Definiendo funciones\n",
        "\n",
        "Para poder resolver problemas complicados suele ser mucho más sencillo dividir el problema en microtareas para simplificarlo e ir resolviendo cada una con pequeños pasos más simples. Lo mismo sucede con la programación. \n",
        "\n",
        "Para evitar errores y encontrarlos fácilmente es más sencillo cortar el código, tal que se tengan muchas funciones que hagan pequeñas porciones del problema. Suele resultar mejor dividir un programa en pequeños subprogramas o módulos, que escribir un programa completo de forma corrida."
      ],
      "metadata": {
        "id": "Jqq-7LHmXEAg"
      }
    },
    {
      "cell_type": "code",
      "source": [
        "def cuadrado(x):\n",
        "    y=x**2\n",
        "    return y"
      ],
      "metadata": {
        "id": "xa4vJZCnhQTF"
      },
      "execution_count": null,
      "outputs": []
    },
    {
      "cell_type": "code",
      "source": [
        "cuadrado(4)"
      ],
      "metadata": {
        "id": "O-1OO_prhR9j"
      },
      "execution_count": null,
      "outputs": []
    },
    {
      "cell_type": "code",
      "source": [
        "a=1+cuadrado(3)"
      ],
      "metadata": {
        "id": "k9F2aY-2hTlJ"
      },
      "execution_count": null,
      "outputs": []
    },
    {
      "cell_type": "code",
      "source": [
        "def dot(a,b):\n",
        "    c=0\n",
        "    if len(a)!=len(b):\n",
        "        return(\"Error: Listas con distinta dimensión\")\n",
        "    else:\n",
        "        for i in range(len(a)):\n",
        "            c+=a[i]*b[i]\n",
        "        return c\n",
        "    \n",
        "a=[3,7]\n",
        "b=[6,3]\n",
        "print(dot(a,b))"
      ],
      "metadata": {
        "id": "6FNpKFwohzzV"
      },
      "execution_count": null,
      "outputs": []
    },
    {
      "cell_type": "markdown",
      "source": [
        "También podemos usar una función de función, esto se debe a que Python recibe una variable en la función y no sabe que tipo de variable o función es, hasta que se usa. Veamos un ejemplo:\n",
        "\n",
        "Una función compuesta, indica la función  compuesta de una función , y sigue la regla de composición\n",
        "\n",
        "$$(f\\circ g)(x)=f(g(x))$$\n",
        "\n",
        "Por ejemplo, si $f(x)=2x+2$ y $g(x)=x^2+1$, ¿cuánto es $(f\\circ g)(2)$?"
      ],
      "metadata": {
        "id": "Gt195UEEh_sh"
      }
    },
    {
      "cell_type": "code",
      "source": [
        "def f(x):\n",
        "    return 2*x + 20\n",
        "\n",
        "def g(y):\n",
        "    return y**2 + 1\n",
        "\n",
        "def fog(f, g, z):\n",
        "    variable = g(z)\n",
        "    return f(variable)\n",
        "\n",
        "print(fog(f, g, 2))"
      ],
      "metadata": {
        "id": "LW7-8uG8h91K"
      },
      "execution_count": null,
      "outputs": []
    },
    {
      "cell_type": "markdown",
      "source": [
        "---\n",
        "\n",
        "## Arreglos\n",
        "\n",
        "Existen diferentes tipos de arreglos o maneras de guardar información en Python, estas son las listas, diccionarios y tuplas."
      ],
      "metadata": {
        "id": "B0M20xZPXbf6"
      }
    },
    {
      "cell_type": "markdown",
      "source": [
        "### Listas\n",
        "\n",
        "La listas guardan secuencia de datos ordenados (vectores) que son mutables."
      ],
      "metadata": {
        "id": "qWQGEF27dLs6"
      }
    },
    {
      "cell_type": "code",
      "source": [
        "l = [1, 3.0, \"hola\", \"fin\"]"
      ],
      "metadata": {
        "id": "Jh7_Bbancqbx"
      },
      "execution_count": null,
      "outputs": []
    },
    {
      "cell_type": "code",
      "source": [
        "l[0]"
      ],
      "metadata": {
        "id": "8cHQOIWnTeGe"
      },
      "execution_count": null,
      "outputs": []
    },
    {
      "cell_type": "code",
      "source": [
        "len(l) #la función len() nos regresa el tamaño de la lista"
      ],
      "metadata": {
        "id": "_i-Lf4jCXaSk"
      },
      "execution_count": null,
      "outputs": []
    },
    {
      "cell_type": "markdown",
      "source": [
        "Los dos puntos `:` son un comodin de Python y representa un *hasta aquí*"
      ],
      "metadata": {
        "id": "7YsVdpytdeaj"
      }
    },
    {
      "cell_type": "code",
      "source": [
        "l[2:]"
      ],
      "metadata": {
        "id": "zEnfQ3U3dcvS"
      },
      "execution_count": null,
      "outputs": []
    },
    {
      "cell_type": "code",
      "source": [
        "l[1:3] #intervalo semi abierto [1,3)"
      ],
      "metadata": {
        "id": "OAaTjsgPdvPp"
      },
      "execution_count": null,
      "outputs": []
    },
    {
      "cell_type": "code",
      "source": [
        "l[0]=2\n",
        "print(l)"
      ],
      "metadata": {
        "id": "p9ENKZ4OdyWU"
      },
      "execution_count": null,
      "outputs": []
    },
    {
      "cell_type": "markdown",
      "source": [
        "### Tuplas\n",
        "Una tupla es una colección ordenada de elementos guardados en una variable y tiene la cualidad de que es inmutable (no se puede reasignar valores)."
      ],
      "metadata": {
        "id": "fjwZXScGd6cD"
      }
    },
    {
      "cell_type": "code",
      "source": [
        "t=('calculo', 'algebra', 'computacion', 'fisica','geometria')"
      ],
      "metadata": {
        "id": "gB_APbzJd5Vq"
      },
      "execution_count": null,
      "outputs": []
    },
    {
      "cell_type": "code",
      "source": [
        "print(t)"
      ],
      "metadata": {
        "id": "BvmIrj9heJQE"
      },
      "execution_count": null,
      "outputs": []
    },
    {
      "cell_type": "code",
      "source": [
        "print(t[0])"
      ],
      "metadata": {
        "id": "F2PFtef8eLhj"
      },
      "execution_count": null,
      "outputs": []
    },
    {
      "cell_type": "code",
      "source": [
        "print(t[-3])"
      ],
      "metadata": {
        "id": "h_xyTYHheNLM"
      },
      "execution_count": null,
      "outputs": []
    },
    {
      "cell_type": "code",
      "source": [
        "print(t[1:4])"
      ],
      "metadata": {
        "id": "WDxZRL-UeOnO"
      },
      "execution_count": null,
      "outputs": []
    },
    {
      "cell_type": "code",
      "source": [
        "# t[0]='recreo'"
      ],
      "metadata": {
        "id": "Ty78U_UteRKf"
      },
      "execution_count": null,
      "outputs": []
    },
    {
      "cell_type": "markdown",
      "source": [
        "### Diccionarios\n",
        "\n",
        "Son colecciones de elementos sin un orden en particular al que se accede a partir de valores clave (también llamados llave)."
      ],
      "metadata": {
        "id": "c_d5yy3yeVUR"
      }
    },
    {
      "cell_type": "code",
      "source": [
        "peso={} #diccionario vacio\n",
        "# peso=dict() #diccionario vacio"
      ],
      "metadata": {
        "id": "GoLCe8AbeUPK"
      },
      "execution_count": null,
      "outputs": []
    },
    {
      "cell_type": "code",
      "source": [
        "peso[\"H\"] = 1"
      ],
      "metadata": {
        "id": "LlDT7LNle5qu"
      },
      "execution_count": null,
      "outputs": []
    },
    {
      "cell_type": "code",
      "source": [
        "peso[\"He\"] = 2"
      ],
      "metadata": {
        "id": "JZW61WIee8P7"
      },
      "execution_count": null,
      "outputs": []
    },
    {
      "cell_type": "code",
      "source": [
        "peso[\"Cl\"] = 17"
      ],
      "metadata": {
        "id": "IjnyuAUSfAF6"
      },
      "execution_count": null,
      "outputs": []
    },
    {
      "cell_type": "code",
      "source": [
        "peso"
      ],
      "metadata": {
        "id": "zZ_BisJQfEhf"
      },
      "execution_count": null,
      "outputs": []
    },
    {
      "cell_type": "code",
      "source": [
        "peso.keys()"
      ],
      "metadata": {
        "id": "vB69pisVfGoo"
      },
      "execution_count": null,
      "outputs": []
    },
    {
      "cell_type": "markdown",
      "source": [
        "Para obtener el valor de un elemento es necesario usar la llave para llamarlo, de igual manera que si fuera una lista."
      ],
      "metadata": {
        "id": "Qnv8Qu5kfKdM"
      }
    },
    {
      "cell_type": "code",
      "source": [
        "peso['H']"
      ],
      "metadata": {
        "id": "keBAWFdAfJZA"
      },
      "execution_count": null,
      "outputs": []
    },
    {
      "cell_type": "code",
      "source": [
        "peso['Cl']"
      ],
      "metadata": {
        "id": "muFMv47CfMpz"
      },
      "execution_count": null,
      "outputs": []
    },
    {
      "cell_type": "markdown",
      "source": [
        "Podemos quitar un elemento de la función pop()."
      ],
      "metadata": {
        "id": "aM-3w6Qpfnat"
      }
    },
    {
      "cell_type": "code",
      "source": [
        "cuadrados={1:1,2:4,3:9,4:16,5:25}"
      ],
      "metadata": {
        "id": "NLFuP4BYfpSm"
      },
      "execution_count": null,
      "outputs": []
    },
    {
      "cell_type": "code",
      "source": [
        "cuadrados"
      ],
      "metadata": {
        "id": "yGeLXR2hfrqu"
      },
      "execution_count": null,
      "outputs": []
    },
    {
      "cell_type": "code",
      "source": [
        "print(cuadrados.pop(4))"
      ],
      "metadata": {
        "id": "Dl3ibt97fuBJ"
      },
      "execution_count": null,
      "outputs": []
    },
    {
      "cell_type": "code",
      "source": [
        "cuadrados"
      ],
      "metadata": {
        "id": "0OtdvXFqfwRD"
      },
      "execution_count": null,
      "outputs": []
    },
    {
      "cell_type": "code",
      "source": [
        "mezcla_elementos=dict()\n",
        "mezcla_elementos[1]=1\n",
        "mezcla_elementos[2]=2.0\n",
        "mezcla_elementos[3]='tres'\n",
        "mezcla_elementos[4]=(4,5)\n",
        "mezcla_elementos[5]=[5,6]\n",
        "mezcla_elementos[6]={'i':1,'z':3}\n",
        "print(mezcla_elementos)"
      ],
      "metadata": {
        "id": "6nKaYIWrf01T"
      },
      "execution_count": null,
      "outputs": []
    }
  ],
  "metadata": {
    "kernelspec": {
      "display_name": "Python 3",
      "language": "python",
      "name": "python3"
    },
    "language_info": {
      "codemirror_mode": {
        "name": "ipython",
        "version": 3
      },
      "file_extension": ".py",
      "mimetype": "text/x-python",
      "name": "python",
      "nbconvert_exporter": "python",
      "pygments_lexer": "ipython3",
      "version": "3.8.3"
    },
    "colab": {
      "provenance": [],
      "include_colab_link": true
    }
  },
  "nbformat": 4,
  "nbformat_minor": 0
}
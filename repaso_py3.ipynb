{
  "cells": [
    {
      "cell_type": "markdown",
      "metadata": {
        "id": "view-in-github",
        "colab_type": "text"
      },
      "source": [
        "<a href=\"https://colab.research.google.com/github/joshbrx/Intro_a_colab_py3/blob/main/repaso_py3.ipynb\" target=\"_parent\"><img src=\"https://colab.research.google.com/assets/colab-badge.svg\" alt=\"Open In Colab\"/></a>"
      ]
    },
    {
      "cell_type": "markdown",
      "metadata": {
        "id": "uoZ5MTojDFtM"
      },
      "source": [
        "# *Un repaso por Python 3* 📗📖\n",
        "\n",
        "### Hola! Seguro te encuentras con ganas de empezar a programar, pero antes vamos a recordar qué es **Python** dentro del mundo del cómputo."
      ]
    },
    {
      "cell_type": "markdown",
      "metadata": {
        "id": "3Upw4nj9DFti"
      },
      "source": [
        "Python es un lenguaje de programación de alto nivel, orientado a objetos. Desarrollado a finales de los años 80's por Guido Van Rossum (Van Rossum se hace llamar BDFL \"Benevolent Dictator for Life\" siguiendo la broma de Monty Python). Es uno de los lenguajes más usados en el ámbito científico: Fortran, C, Matematica, Python, Matlab, Julia. [FLOW lab: Scientific Programming Languages](https://flow.byu.edu/posts/sci-prog-lang)\n",
        "\n",
        "También es uno de los lenguajes de programación más solicitados en el ámbito laboral. [Stackify: Popular programming languages of 2019](https://stackify.com/popular-programming-languages-2018/)\n",
        "\n",
        "Características:\n",
        "\n",
        "1. No se compila a lenguaje máquina, se ejecuta en un intérprete.\n",
        "    \n",
        "2. Genera códigos más cortos y limpios que otros lenguajes de programación. Es un buen lenguaje para empezar a programar.\n",
        "\n",
        "3. Es software libre. Cumple con las 4 libertades: (i) Libertad de ser usado. (ii) Libertad de ser modificado. (iii) Libertad de ser compartido. (iv) Libertad de ser modificado y compartido.\n",
        "\n",
        "4. Es multiplataformas. Hay editores de Python para Windows, Linux, Mac y Android. Además de que puede ser ejecutado en línea.\n",
        "\n",
        "5. Fácil de Instalar.\n",
        "\n",
        "6. Hereda características de C y Matlab."
      ]
    },
    {
      "cell_type": "markdown",
      "metadata": {
        "id": "GTuyUHvPDFtq"
      },
      "source": [
        "### **Compilador versus intérprete:**\n",
        "    \n",
        "**Compilador**: \"Traduce todo a código máquina, y finalmente ejecuta\".\n",
        "    \n",
        "    Archivo -> Fortran(compilador) -> traduce todo a código máquina -> ejecuta\n",
        "\n",
        "**Intérprete**: \"Traduce un bloque código máquina, ejecuta y repite con la siguiente linea\" \n",
        "    \n",
        "    Archivo -> Python(intérprete) -> traduce una linea a código máquina -> ejecuta -> repite con siguiente linea"
      ]
    },
    {
      "cell_type": "markdown",
      "metadata": {
        "id": "WHxslv0vDFtt"
      },
      "source": [
        "Actualmente, Python es muy usado Google, Yahoo, CERN, Nasa y en todo lo que es Ciencia de Datos. Esto se debe a que tiene una curva de aprendizaje pequeña"
      ]
    },
    {
      "cell_type": "markdown",
      "source": [
        "\n",
        "\n",
        "---\n",
        "\n",
        "\n",
        "## Python como *calculadora*"
      ],
      "metadata": {
        "id": "XaMMzasaMchl"
      }
    },
    {
      "cell_type": "markdown",
      "metadata": {
        "id": "odpwGDKYDFtx"
      },
      "source": [
        "### Operaciones Binarias.    $\\times:(a,b) → c$\n",
        "\n",
        "- \"+\" (Suma),\n",
        "- \"-\" (Resta), \n",
        "- \"*\" (Multiplicación), \n",
        "- \"/\" (División), \n",
        "- \"**\" (Exponenciación),\n",
        "- \"//\" (División de piso: división que resulta en un número entero ajustado a la izquierda en la recta numérica), \n",
        "- \"%\" (Módulo: regresa el residuo de la división)\n"
      ]
    },
    {
      "cell_type": "markdown",
      "metadata": {
        "id": "exmhjiRtDFt0"
      },
      "source": [
        "\n",
        "---\n",
        "\n",
        "\n",
        "##    Asignación de variables"
      ]
    },
    {
      "cell_type": "markdown",
      "metadata": {
        "id": "c7mepkKtDFt2"
      },
      "source": [
        "En todos los lenguajes de programación, se puede definir una variable para representa un valor dado alojado en la memoria. El valor puede cambiar, pero no el tipo de variable. Sin embargo en Pythoncontamos con variables dinámicas."
      ]
    },
    {
      "cell_type": "code",
      "execution_count": null,
      "metadata": {
        "id": "GqOKi3zaDFt7"
      },
      "outputs": [],
      "source": [
        "b = 2       # \"b\" es una variable entera"
      ]
    },
    {
      "cell_type": "code",
      "execution_count": null,
      "metadata": {
        "id": "KwoGSRMfDFuD",
        "outputId": "4284ee09-35d5-4b20-fe13-4797cc87ace2"
      },
      "outputs": [
        {
          "data": {
            "text/plain": [
              "int"
            ]
          },
          "execution_count": 34,
          "metadata": {},
          "output_type": "execute_result"
        }
      ],
      "source": [
        "type(b)     # la función type() dice el de variable que es \"b\""
      ]
    },
    {
      "cell_type": "code",
      "execution_count": 1,
      "metadata": {
        "id": "D86255zmDFuI",
        "outputId": "4ba396a5-adc2-4278-e09e-b7c4c4a6634a",
        "colab": {
          "base_uri": "https://localhost:8080/",
          "height": 165
        }
      },
      "outputs": [
        {
          "output_type": "error",
          "ename": "NameError",
          "evalue": "ignored",
          "traceback": [
            "\u001b[0;31m---------------------------------------------------------------------------\u001b[0m",
            "\u001b[0;31mNameError\u001b[0m                                 Traceback (most recent call last)",
            "\u001b[0;32m<ipython-input-1-66fd96605b44>\u001b[0m in \u001b[0;36m<module>\u001b[0;34m\u001b[0m\n\u001b[0;32m----> 1\u001b[0;31m \u001b[0mb\u001b[0m \u001b[0;34m=\u001b[0m \u001b[0mb\u001b[0m \u001b[0;34m*\u001b[0m \u001b[0;36m2.0\u001b[0m     \u001b[0;31m#cambiamos dinámicamente el tipo de variable y actualizamos el valor de \"b\"\u001b[0m\u001b[0;34m\u001b[0m\u001b[0;34m\u001b[0m\u001b[0m\n\u001b[0m",
            "\u001b[0;31mNameError\u001b[0m: name 'b' is not defined"
          ]
        }
      ],
      "source": [
        "b = b * 2.0     #cambiamos dinámicamente el tipo de variable y actualizamos el valor de \"b\""
      ]
    },
    {
      "cell_type": "code",
      "execution_count": null,
      "metadata": {
        "id": "1jyJazfPDFuM",
        "outputId": "9e086273-35d6-465c-f95d-5a9a91b0c1e3"
      },
      "outputs": [
        {
          "data": {
            "text/plain": [
              "float"
            ]
          },
          "execution_count": 36,
          "metadata": {},
          "output_type": "execute_result"
        }
      ],
      "source": [
        "type(b)     # ha cambiado el tipo de variable, de \"int\" a \"float\" :0"
      ]
    },
    {
      "cell_type": "markdown",
      "metadata": {
        "id": "KnPQKcQcDFuO"
      },
      "source": [
        "## Tipos de variables\n",
        "\n",
        "- `int()`   -> Enteras \"Integer\": 0, 1, 4, 19999, -4\n",
        "- `float()` -> Flotantes \"Float\": 0.9999999, 1.0, 7.1\n",
        "- `str()`   -> Cadena de Caracteres: \"Hola mundo\", \"miau\", \"Zacatecas\"\n",
        "- `bool()`  -> Booleana con valores: `True` ó `False`"
      ]
    },
    {
      "cell_type": "markdown",
      "metadata": {
        "id": "JYDDqIDBDFuQ"
      },
      "source": [
        "Por un lado, con el operador `=` asignamos el valor a una variable (Creamos en la memoria la variable). \n",
        "\n",
        "Por el otro, con el operador `==` hacemos la comparación de dos cosas (idéntico a ...). Nótese que `=` no es una operación simétrica, es decir, no es valido escribir 5=x"
      ]
    },
    {
      "cell_type": "code",
      "execution_count": 3,
      "metadata": {
        "id": "6Dn2iaCcDFuS",
        "outputId": "a460a6de-d80b-47a8-8aec-15f62ff02a8b",
        "colab": {
          "base_uri": "https://localhost:8080/"
        }
      },
      "outputs": [
        {
          "output_type": "stream",
          "name": "stdout",
          "text": [
            "3.3333333333333335\n",
            "0.3\n",
            "3\n",
            "0\n"
          ]
        }
      ],
      "source": [
        "print(10/3)\n",
        "print(3/10)\n",
        "print(10//3)\n",
        "print(3//10) # \"//\" regresa la parte entera de la división"
      ]
    },
    {
      "cell_type": "code",
      "execution_count": 5,
      "metadata": {
        "id": "6lWRO9dBDFuU",
        "outputId": "40258a0b-d735-4b4b-c676-753e4fadfe65",
        "colab": {
          "base_uri": "https://localhost:8080/"
        }
      },
      "outputs": [
        {
          "output_type": "stream",
          "name": "stdout",
          "text": [
            "1 ,  3\n"
          ]
        }
      ],
      "source": [
        "print(10%3,\", \", 3%10)   # imprime el residuo de la operación"
      ]
    },
    {
      "cell_type": "markdown",
      "metadata": {
        "id": "nKQe-jtCDFuV"
      },
      "source": [
        "### Asignación de múltiples variables simultáneas"
      ]
    },
    {
      "cell_type": "code",
      "execution_count": 8,
      "metadata": {
        "id": "mGzc---MDFuX"
      },
      "outputs": [],
      "source": [
        "x, y, z = 1, 2, 3.0     # definimos nuestras 3 variables al mismo tiempo"
      ]
    },
    {
      "cell_type": "code",
      "execution_count": 7,
      "metadata": {
        "id": "qHGYHzRJDFuY",
        "outputId": "a335d37e-6652-47b4-df32-b7595ef391af",
        "colab": {
          "base_uri": "https://localhost:8080/"
        }
      },
      "outputs": [
        {
          "output_type": "stream",
          "name": "stdout",
          "text": [
            "1\n",
            "2\n",
            "3.0\n"
          ]
        }
      ],
      "source": [
        "print(x)\n",
        "print(y)\n",
        "print(z)"
      ]
    },
    {
      "cell_type": "markdown",
      "metadata": {
        "id": "QV_W6g8-DFua"
      },
      "source": [
        "### Identificadores (Identifiers):"
      ]
    },
    {
      "cell_type": "markdown",
      "metadata": {
        "id": "iVZmL02iDFud"
      },
      "source": [
        "Secuencia de letras idéntificadas por Python para llevar a cabo una función. No se pueden usar como nombre de variables (`and`, `or`, `for`, `while`, `del`, `append`, entre otras). \n",
        "Es importante mencionar que Python distingue entre mayúsculas y minúsculas"
      ]
    },
    {
      "cell_type": "code",
      "execution_count": null,
      "metadata": {
        "id": "_k7-WVktDFuh",
        "outputId": "a68dd9c5-75e2-4350-f621-ef94da78b451"
      },
      "outputs": [
        {
          "name": "stdout",
          "output_type": "stream",
          "text": [
            "3.141592653589793\n",
            "3.141592653589793115997963468544185161590576171875\n"
          ]
        }
      ],
      "source": [
        "from math import pi #desde math importa la variable pi\n",
        "print(pi)\n",
        "#Si queremos más valores de pi, importamos el módulo decimal\n",
        "from decimal import Decimal\n",
        "print(Decimal(pi))"
      ]
    },
    {
      "cell_type": "markdown",
      "metadata": {
        "id": "ZAWGbkJfDFuj"
      },
      "source": [
        "### Notación Cientifica"
      ]
    },
    {
      "cell_type": "code",
      "execution_count": null,
      "metadata": {
        "id": "kUtPWyQZDFul",
        "outputId": "fc31ff9e-6d2c-4607-d55f-b20631053738"
      },
      "outputs": [
        {
          "name": "stdout",
          "output_type": "stream",
          "text": [
            "El numero de avogadro es 6.022e+23\n",
            "Velocidad de la Luz = 299800000.0\n"
          ]
        }
      ],
      "source": [
        "numero_avogadro = 6.022e23\n",
        "c = 2.998e8\n",
        "print(\"El numero de avogadro es\", numero_avogadro)\n",
        "print(\"Velocidad de la Luz =\", c)"
      ]
    },
    {
      "cell_type": "markdown",
      "metadata": {
        "id": "DwAtadgxDFum"
      },
      "source": [
        "###     Cadena de Caracteres (String) "
      ]
    },
    {
      "cell_type": "markdown",
      "metadata": {
        "id": "cu2zb_khDFun"
      },
      "source": [
        "Las cadenas son secuencias de caracteres que están entre dos comillas o una comilla."
      ]
    },
    {
      "cell_type": "code",
      "execution_count": null,
      "metadata": {
        "id": "YF47zB71DFuo"
      },
      "outputs": [],
      "source": [
        "cadena1='Hola '"
      ]
    },
    {
      "cell_type": "code",
      "execution_count": null,
      "metadata": {
        "id": "-Bu1nqcqDFup"
      },
      "outputs": [],
      "source": [
        "cadena2='a todos'"
      ]
    },
    {
      "cell_type": "markdown",
      "metadata": {
        "id": "krWJASwzDFuq"
      },
      "source": [
        "Con estas dos cadenas hacemos la acción de concaternar (Pegar el inicio de una cadena al final de la otra)."
      ]
    },
    {
      "cell_type": "code",
      "execution_count": null,
      "metadata": {
        "id": "ZbCd6wJ0DFus",
        "outputId": "7745857f-371a-4790-ffa2-2110a286a78b"
      },
      "outputs": [
        {
          "name": "stdout",
          "output_type": "stream",
          "text": [
            "Hola a todos\n"
          ]
        }
      ],
      "source": [
        "print(cadena1+cadena2)"
      ]
    },
    {
      "cell_type": "markdown",
      "metadata": {
        "id": "UZYhYZzKDFut"
      },
      "source": [
        "Puedo seleccionar lo que quiero que aparezca (cortar selectivamente)"
      ]
    },
    {
      "cell_type": "code",
      "execution_count": null,
      "metadata": {
        "id": "JOOJlH-2DFuu",
        "outputId": "48cbbf5e-ac6a-441a-f573-70db174c9bfc"
      },
      "outputs": [
        {
          "name": "stdout",
          "output_type": "stream",
          "text": [
            "a t\n"
          ]
        }
      ],
      "source": [
        "print(cadena2[0:3])"
      ]
    },
    {
      "cell_type": "markdown",
      "metadata": {
        "id": "x3bvk8P2DFuw"
      },
      "source": [
        "Las cadenas son inmutables"
      ]
    },
    {
      "cell_type": "code",
      "execution_count": null,
      "metadata": {
        "id": "9JZugr6sDFux",
        "outputId": "4398a56e-8157-4b10-9dd5-4b70095f1954"
      },
      "outputs": [
        {
          "name": "stdout",
          "output_type": "stream",
          "text": [
            "3\n"
          ]
        }
      ],
      "source": [
        "a=3\n",
        "print(a)"
      ]
    },
    {
      "cell_type": "code",
      "execution_count": null,
      "metadata": {
        "id": "aAgj8f1kDFuz",
        "outputId": "cdf3e6c0-455f-40b1-e95e-34e92c6c8f38"
      },
      "outputs": [
        {
          "name": "stdout",
          "output_type": "stream",
          "text": [
            "4\n"
          ]
        }
      ],
      "source": [
        "a=4\n",
        "print(a)"
      ]
    },
    {
      "cell_type": "code",
      "execution_count": null,
      "metadata": {
        "id": "6JJGqRZiDFu0",
        "outputId": "b6d220be-a5ea-4fb2-e436-529ad8b12a8f"
      },
      "outputs": [
        {
          "data": {
            "text/plain": [
              "'Hola'"
            ]
          },
          "execution_count": 47,
          "metadata": {},
          "output_type": "execute_result"
        }
      ],
      "source": [
        "s='hola'\n",
        "s.capitalize()"
      ]
    },
    {
      "cell_type": "code",
      "execution_count": 14,
      "metadata": {
        "id": "m8OlJHHUDFu3",
        "outputId": "3b95841b-18ba-47d4-b2cb-f5ae1ef3c5ad",
        "colab": {
          "base_uri": "https://localhost:8080/"
        }
      },
      "outputs": [
        {
          "output_type": "stream",
          "name": "stdout",
          "text": [
            "python\n",
            "PYTHON\n"
          ]
        }
      ],
      "source": [
        "print(\"Python\".lower())\n",
        "print(\"python\".upper())"
      ]
    },
    {
      "cell_type": "code",
      "execution_count": 10,
      "metadata": {
        "id": "ls6qnbtVDFu5",
        "outputId": "d261e790-7202-4eb5-ffd8-6dc8623f7c55",
        "colab": {
          "base_uri": "https://localhost:8080/",
          "height": 35
        }
      },
      "outputs": [
        {
          "output_type": "execute_result",
          "data": {
            "text/plain": [
              "'Se me antojó un gansito'"
            ],
            "application/vnd.google.colaboratory.intrinsic+json": {
              "type": "string"
            }
          },
          "metadata": {},
          "execution_count": 10
        }
      ],
      "source": [
        "\"Se me\" + \" antojó\" +\" \"+ \"un gansito\""
      ]
    },
    {
      "cell_type": "code",
      "execution_count": 12,
      "metadata": {
        "id": "cxroKVsQDFu6",
        "outputId": "70404218-59ba-4cf4-e47e-e2f867dbd0c5",
        "colab": {
          "base_uri": "https://localhost:8080/",
          "height": 35
        }
      },
      "outputs": [
        {
          "output_type": "execute_result",
          "data": {
            "text/plain": [
              "'miau miau miau '"
            ],
            "application/vnd.google.colaboratory.intrinsic+json": {
              "type": "string"
            }
          },
          "metadata": {},
          "execution_count": 12
        }
      ],
      "source": [
        "3*(\"miau\"+\" \")"
      ]
    },
    {
      "cell_type": "markdown",
      "source": [
        "---\n",
        "## Funciones predefinidas"
      ],
      "metadata": {
        "id": "K0edUIr0TIiy"
      }
    },
    {
      "cell_type": "code",
      "source": [],
      "metadata": {
        "id": "8cHQOIWnTeGe"
      },
      "execution_count": null,
      "outputs": []
    }
  ],
  "metadata": {
    "kernelspec": {
      "display_name": "Python 3",
      "language": "python",
      "name": "python3"
    },
    "language_info": {
      "codemirror_mode": {
        "name": "ipython",
        "version": 3
      },
      "file_extension": ".py",
      "mimetype": "text/x-python",
      "name": "python",
      "nbconvert_exporter": "python",
      "pygments_lexer": "ipython3",
      "version": "3.8.3"
    },
    "colab": {
      "provenance": [],
      "include_colab_link": true
    }
  },
  "nbformat": 4,
  "nbformat_minor": 0
}
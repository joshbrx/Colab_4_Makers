{
  "nbformat": 4,
  "nbformat_minor": 0,
  "metadata": {
    "colab": {
      "provenance": [],
      "authorship_tag": "ABX9TyNZ/+d5wQTioLIUSjsgXyeU",
      "include_colab_link": true
    },
    "kernelspec": {
      "name": "python3",
      "display_name": "Python 3"
    },
    "language_info": {
      "name": "python"
    }
  },
  "cells": [
    {
      "cell_type": "markdown",
      "metadata": {
        "id": "view-in-github",
        "colab_type": "text"
      },
      "source": [
        "<a href=\"https://colab.research.google.com/github/joshbrx/Colab_4_Makers/blob/main/3_Problemas_py3.ipynb\" target=\"_parent\"><img src=\"https://colab.research.google.com/assets/colab-badge.svg\" alt=\"Open In Colab\"/></a>"
      ]
    },
    {
      "cell_type": "markdown",
      "source": [
        "# *Problemas en el paraiso* 🌴🌊 🌅 \n",
        "\n",
        "Es hora de poner a prueba lo que hemos visto y resolver los siguientes problemas sobre: \n",
        "- Sintáxis en ***Python (v.3)***\n",
        "- Álgebra lineal y operaciones entre vectores con ***Numpy***\n",
        "- Gráficas con ***Matplotlib***, y finalmente, \n",
        "- Importar nuestros datos experimentales y visualizarlos desde nuestro ***Arduino***\n",
        "😳"
      ],
      "metadata": {
        "id": "Hq5s63lI95HT"
      }
    },
    {
      "cell_type": "code",
      "execution_count": null,
      "metadata": {
        "id": "8OSJN75E9rGC"
      },
      "outputs": [],
      "source": []
    }
  ]
}
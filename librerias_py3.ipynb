{
  "nbformat": 4,
  "nbformat_minor": 0,
  "metadata": {
    "colab": {
      "provenance": [],
      "authorship_tag": "ABX9TyPtmwbzEb7NH4FXoaTScU96",
      "include_colab_link": true
    },
    "kernelspec": {
      "name": "python3",
      "display_name": "Python 3"
    },
    "language_info": {
      "name": "python"
    }
  },
  "cells": [
    {
      "cell_type": "markdown",
      "metadata": {
        "id": "view-in-github",
        "colab_type": "text"
      },
      "source": [
        "<a href=\"https://colab.research.google.com/github/joshbrx/Intro_a_colab_py3/blob/main/librerias_py3.ipynb\" target=\"_parent\"><img src=\"https://colab.research.google.com/assets/colab-badge.svg\" alt=\"Open In Colab\"/></a>"
      ]
    },
    {
      "cell_type": "markdown",
      "source": [
        "# *Importando librerías* 💹📚\n",
        "\n",
        "Ya terminamos nuestro repaso por Python 3 así que podemos pasar a trabajar con librerías (o mejor dicho bibliotecas). \n",
        "\n",
        "Aquí veremos la librería de ***Matplotlib*** para poder realizar gráficas pofesionales, ***Numpy*** y ***Pandas*** para poder manipular los datos que obtengamos de nuestros sensores y poder realizar análisis significativos en nuestros reportes.\n",
        "\n",
        "Con esto ya tendrás todas las herramientas para poder ser una navaja suiza en electro e incluso llegar más que listo para tu próximo laboratorio :0"
      ],
      "metadata": {
        "id": "IeijVFf3sgky"
      }
    },
    {
      "cell_type": "markdown",
      "source": [
        "***Oye, ¿y ya sabes qué es una biblioteca en Python?***\n",
        "\n",
        "Pues una biblioteca es un conjunto de módulos que se distribuyen junto con Python. Estas ayudan a importar distintos tipos de herramientas de otros programadores y se pueden especializar en gráficos, funciones matemáticas, imágenes, etc. Encontrarás la lista de todos los módulos y paquetes junto con su documentación en [este enlace.](https://docs.python.org/3/library/index.html)\n",
        "\n",
        "---\n",
        "\n",
        "Y para poder **importar** una librería se hace de la siguiente manera:\n",
        "\n",
        "\n",
        "```\n",
        "from libreria_1 import *         # método 1\n",
        "import libreria_2 as lib_2       # método 2\n",
        "```\n",
        "\n",
        "Con el primer método, se especifica que de la librería `libreria_1` se incorporen todas las funciones tenga, y con el segundo método importamos la librería `libreria_2` como un objeto al que le llamamos `lib_2`.\n",
        "\n",
        "---"
      ],
      "metadata": {
        "id": "ezSrl1MNuaHN"
      }
    },
    {
      "cell_type": "markdown",
      "source": [
        "\n",
        "Las librerías más usuales para el trabajo de cómputo científico son `math`, `numpy`, `scipy` y `pylab`."
      ],
      "metadata": {
        "id": "1Og6KN2QxZhq"
      }
    },
    {
      "cell_type": "markdown",
      "source": [
        "---\n",
        "## *Apendiendo a graficar con **Matplotlib**✍🏻🌊*\n"
      ],
      "metadata": {
        "id": "-umkO6rGyD3T"
      }
    },
    {
      "cell_type": "code",
      "source": [
        "import matplotlib.pyplot as plt     # se importa la libreria matplotlib.pyplot y la nombramos \"plt\"\n",
        "%matplotlib inline "
      ],
      "metadata": {
        "id": "FbOYboqAzqKx"
      },
      "execution_count": null,
      "outputs": []
    },
    {
      "cell_type": "markdown",
      "source": [
        "---\n",
        "## Analizando datos con **Numpy** y **Pandas**.* 🐼🔺"
      ],
      "metadata": {
        "id": "In9nC5H1yth5"
      }
    },
    {
      "cell_type": "code",
      "execution_count": 1,
      "metadata": {
        "id": "SpjOBfajsMq6"
      },
      "outputs": [],
      "source": [
        "import numpy as np      # se importa la libreria numpy y la llamamos \"np\"\n",
        "import pandas as pd     # se importa la libreria pandas y la llamamos \"pd\""
      ]
    },
    {
      "cell_type": "code",
      "source": [],
      "metadata": {
        "id": "IHk4oSyY0RXY"
      },
      "execution_count": null,
      "outputs": []
    }
  ]
}